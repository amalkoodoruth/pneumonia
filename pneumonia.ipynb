{
  "nbformat": 4,
  "nbformat_minor": 0,
  "metadata": {
    "kernelspec": {
      "display_name": "Python 3",
      "language": "python",
      "name": "python3"
    },
    "language_info": {
      "codemirror_mode": {
        "name": "ipython",
        "version": 3
      },
      "file_extension": ".py",
      "mimetype": "text/x-python",
      "name": "python",
      "nbconvert_exporter": "python",
      "pygments_lexer": "ipython3",
      "version": "3.7.7"
    },
    "colab": {
      "name": "pneumonia.ipynb",
      "provenance": [],
      "collapsed_sections": []
    },
    "accelerator": "GPU"
  },
  "cells": [
    {
      "cell_type": "code",
      "metadata": {
        "id": "g677e-RiauxQ",
        "colab_type": "code",
        "outputId": "d09b1f69-6752-4628-d8e8-6bbabf77f177",
        "colab": {
          "base_uri": "https://localhost:8080/",
          "height": 153
        }
      },
      "source": [
        "# Clone the entire repo.\n",
        "!git clone https://github.com/amalkoodoruth/pneumonia.git\n"
      ],
      "execution_count": 1,
      "outputs": [
        {
          "output_type": "stream",
          "text": [
            "Cloning into 'pneumonia'...\n",
            "remote: Enumerating objects: 23, done.\u001b[K\n",
            "remote: Counting objects: 100% (23/23), done.\u001b[K\n",
            "remote: Compressing objects: 100% (23/23), done.\u001b[K\n",
            "remote: Total 5850 (delta 0), reused 0 (delta 0), pack-reused 5827\u001b[K\n",
            "Receiving objects: 100% (5850/5850), 1.13 GiB | 39.56 MiB/s, done.\n",
            "Resolving deltas: 100% (5/5), done.\n",
            "Checking out files: 100% (5841/5841), done.\n"
          ],
          "name": "stdout"
        }
      ]
    },
    {
      "cell_type": "code",
      "metadata": {
        "id": "oV7EjX-pfCkj",
        "colab_type": "code",
        "outputId": "ccb67288-ce95-444c-c5b6-1f1b18ec26d2",
        "colab": {
          "base_uri": "https://localhost:8080/",
          "height": 34
        }
      },
      "source": [
        "cd pneumonia/"
      ],
      "execution_count": 2,
      "outputs": [
        {
          "output_type": "stream",
          "text": [
            "/content/pneumonia\n"
          ],
          "name": "stdout"
        }
      ]
    },
    {
      "cell_type": "code",
      "metadata": {
        "id": "9PsM9hsLacgD",
        "colab_type": "code",
        "colab": {}
      },
      "source": [
        "import tensorflow as tf\n",
        "import numpy as np\n",
        "# import pandas as pd\n",
        "DESIRED_ACCURACY = 0.90\n",
        "ACCEPTABLE_LOSS = 0.25\n",
        "BATCH_SIZE = 64\n",
        "image_height = 150\n",
        "image_width = 150"
      ],
      "execution_count": 0,
      "outputs": []
    },
    {
      "cell_type": "code",
      "metadata": {
        "id": "RfXyYmUpacgJ",
        "colab_type": "code",
        "colab": {}
      },
      "source": [
        "class mCallback(tf.keras.callbacks.Callback):\n",
        "    def on_epoch_end(self, epoch, logs = {}):\n",
        "        if(logs.get('val_acc') >= DESIRED_ACCURACY and logs.get('val_loss') <= ACCEPTABLE_LOSS):\n",
        "            print(\"\\nReached desired accuracy so cancelling training!\")\n",
        "            self.model.stop_training = True"
      ],
      "execution_count": 0,
      "outputs": []
    },
    {
      "cell_type": "code",
      "metadata": {
        "id": "Oz5_RqOEacgO",
        "colab_type": "code",
        "outputId": "83a69edf-fa32-428e-e7af-d94097c58e66",
        "colab": {
          "base_uri": "https://localhost:8080/",
          "height": 51
        }
      },
      "source": [
        "from tensorflow.keras.preprocessing.image import ImageDataGenerator\n",
        "train_datagen = ImageDataGenerator(rescale = 1./255,\n",
        "                                   shear_range=0.0,\n",
        "                                   zoom_range=0.1,\n",
        "                                rotation_range=10,\n",
        "    width_shift_range=0.1,\n",
        "    height_shift_range=0.1,\n",
        "    horizontal_flip=True)\n",
        "train_generator = train_datagen.flow_from_directory(\n",
        "    '/content/pneumonia/train',\n",
        "    target_size = (image_width, image_height),\n",
        "    batch_size = BATCH_SIZE,\n",
        "    class_mode = 'binary')\n",
        "validation_datagen = ImageDataGenerator(rescale = 1./255)\n",
        "validation_generator = validation_datagen.flow_from_directory(\n",
        "    '/content/pneumonia/val',\n",
        "    target_size = (image_width, image_height),\n",
        "    batch_size = BATCH_SIZE,\n",
        "    class_mode = 'binary')"
      ],
      "execution_count": 5,
      "outputs": [
        {
          "output_type": "stream",
          "text": [
            "Found 4824 images belonging to 2 classes.\n",
            "Found 1016 images belonging to 2 classes.\n"
          ],
          "name": "stdout"
        }
      ]
    },
    {
      "cell_type": "code",
      "metadata": {
        "id": "vfQx7oYKacgT",
        "colab_type": "code",
        "colab": {}
      },
      "source": [
        "# This Code Block should Define and Compile the Model\n",
        "model = tf.keras.models.Sequential([\n",
        "    tf.keras.layers.Conv2D(32, (3,3), activation = 'relu', input_shape = (image_width,image_height,3)),\n",
        "    tf.keras.layers.MaxPooling2D(2,2),\n",
        "    tf.keras.layers.Conv2D(64, (3,3), activation = 'relu'),\n",
        "    tf.keras.layers.MaxPooling2D(2,2),\n",
        "    tf.keras.layers.Conv2D(128, (3,3), activation = 'relu'),\n",
        "    tf.keras.layers.MaxPooling2D(2,2),\n",
        "    tf.keras.layers.Flatten(),\n",
        "    tf.keras.layers.Dense(256, activation = 'relu'),\n",
        "    tf.keras.layers.Dropout(0.5),\n",
        "    tf.keras.layers.Dense(256, activation = 'relu'),\n",
        "    tf.keras.layers.Dropout(0.5),\n",
        "    tf.keras.layers.Dense(1, activation = 'sigmoid')\n",
        "])\n",
        "\n",
        "# from tensorflow.keras.optimizers import RMSprop\n",
        "\n",
        "model.compile(loss = 'binary_crossentropy', optimizer = 'adam', metrics = ['acc'])"
      ],
      "execution_count": 0,
      "outputs": []
    },
    {
      "cell_type": "code",
      "metadata": {
        "id": "xdtlWBD2acgW",
        "colab_type": "code",
        "outputId": "c68df4f3-dd74-4e0f-c699-8b2416f6f190",
        "colab": {
          "base_uri": "https://localhost:8080/",
          "height": 1000
        }
      },
      "source": [
        "callbacks = mCallback()\n",
        "history = model.fit(\n",
        "    train_generator,\n",
        "    #steps_per_epoch = 100,\n",
        "    epochs = 50,\n",
        "    verbose = 1,\n",
        "    validation_data = validation_generator,\n",
        "    #callbacks = [callbacks]\n",
        "    )\n",
        "    # model fitting\n",
        "    # I commented out the callback only to get the data for the graphs\n",
        "    # In practice, we would stop learning at the end of an epoch where we\n",
        "    # meet our desired accuracy level and acceptable loss\n"
      ],
      "execution_count": 7,
      "outputs": [
        {
          "output_type": "stream",
          "text": [
            "Epoch 1/50\n",
            "76/76 [==============================] - 70s 918ms/step - loss: 0.5033 - acc: 0.7825 - val_loss: 0.3555 - val_acc: 0.8533\n",
            "Epoch 2/50\n",
            "76/76 [==============================] - 70s 915ms/step - loss: 0.3209 - acc: 0.8682 - val_loss: 0.5464 - val_acc: 0.8002\n",
            "Epoch 3/50\n",
            "76/76 [==============================] - 69s 912ms/step - loss: 0.2346 - acc: 0.9019 - val_loss: 0.5214 - val_acc: 0.8219\n",
            "Epoch 4/50\n",
            "76/76 [==============================] - 69s 912ms/step - loss: 0.2124 - acc: 0.9181 - val_loss: 0.3810 - val_acc: 0.8346\n",
            "Epoch 5/50\n",
            "76/76 [==============================] - 69s 905ms/step - loss: 0.1873 - acc: 0.9260 - val_loss: 0.4980 - val_acc: 0.8179\n",
            "Epoch 6/50\n",
            "76/76 [==============================] - 69s 906ms/step - loss: 0.1851 - acc: 0.9264 - val_loss: 0.3580 - val_acc: 0.8543\n",
            "Epoch 7/50\n",
            "76/76 [==============================] - 69s 906ms/step - loss: 0.1788 - acc: 0.9320 - val_loss: 0.3694 - val_acc: 0.8533\n",
            "Epoch 8/50\n",
            "76/76 [==============================] - 69s 904ms/step - loss: 0.1570 - acc: 0.9420 - val_loss: 0.3749 - val_acc: 0.8583\n",
            "Epoch 9/50\n",
            "76/76 [==============================] - 69s 910ms/step - loss: 0.1557 - acc: 0.9430 - val_loss: 0.2897 - val_acc: 0.8711\n",
            "Epoch 10/50\n",
            "76/76 [==============================] - 69s 906ms/step - loss: 0.1597 - acc: 0.9395 - val_loss: 0.2294 - val_acc: 0.9065\n",
            "Epoch 11/50\n",
            "76/76 [==============================] - 69s 905ms/step - loss: 0.1332 - acc: 0.9480 - val_loss: 0.3563 - val_acc: 0.8533\n",
            "Epoch 12/50\n",
            "76/76 [==============================] - 69s 907ms/step - loss: 0.1345 - acc: 0.9505 - val_loss: 0.2367 - val_acc: 0.9026\n",
            "Epoch 13/50\n",
            "76/76 [==============================] - 69s 910ms/step - loss: 0.1341 - acc: 0.9473 - val_loss: 0.3884 - val_acc: 0.8573\n",
            "Epoch 14/50\n",
            "76/76 [==============================] - 69s 909ms/step - loss: 0.1280 - acc: 0.9498 - val_loss: 0.5891 - val_acc: 0.8051\n",
            "Epoch 15/50\n",
            "76/76 [==============================] - 69s 909ms/step - loss: 0.1265 - acc: 0.9492 - val_loss: 0.2886 - val_acc: 0.8957\n",
            "Epoch 16/50\n",
            "76/76 [==============================] - 70s 916ms/step - loss: 0.1149 - acc: 0.9544 - val_loss: 0.2875 - val_acc: 0.8907\n",
            "Epoch 17/50\n",
            "76/76 [==============================] - 69s 909ms/step - loss: 0.1359 - acc: 0.9496 - val_loss: 0.3230 - val_acc: 0.8740\n",
            "Epoch 18/50\n",
            "76/76 [==============================] - 70s 917ms/step - loss: 0.1045 - acc: 0.9587 - val_loss: 0.3969 - val_acc: 0.8848\n",
            "Epoch 19/50\n",
            "76/76 [==============================] - 69s 912ms/step - loss: 0.1206 - acc: 0.9548 - val_loss: 0.2699 - val_acc: 0.9006\n",
            "Epoch 20/50\n",
            "76/76 [==============================] - 69s 911ms/step - loss: 0.1171 - acc: 0.9546 - val_loss: 0.3691 - val_acc: 0.8612\n",
            "Epoch 21/50\n",
            "76/76 [==============================] - 68s 900ms/step - loss: 0.1077 - acc: 0.9617 - val_loss: 0.3090 - val_acc: 0.8750\n",
            "Epoch 22/50\n",
            "76/76 [==============================] - 69s 902ms/step - loss: 0.1183 - acc: 0.9556 - val_loss: 0.4007 - val_acc: 0.8504\n",
            "Epoch 23/50\n",
            "76/76 [==============================] - 69s 903ms/step - loss: 0.1076 - acc: 0.9594 - val_loss: 0.3458 - val_acc: 0.8829\n",
            "Epoch 24/50\n",
            "76/76 [==============================] - 69s 906ms/step - loss: 0.1078 - acc: 0.9596 - val_loss: 0.3057 - val_acc: 0.8819\n",
            "Epoch 25/50\n",
            "76/76 [==============================] - 69s 909ms/step - loss: 0.1085 - acc: 0.9587 - val_loss: 0.3721 - val_acc: 0.8455\n",
            "Epoch 26/50\n",
            "76/76 [==============================] - 69s 909ms/step - loss: 0.1084 - acc: 0.9621 - val_loss: 0.3694 - val_acc: 0.8573\n",
            "Epoch 27/50\n",
            "76/76 [==============================] - 69s 909ms/step - loss: 0.0943 - acc: 0.9623 - val_loss: 0.3094 - val_acc: 0.8868\n",
            "Epoch 28/50\n",
            "76/76 [==============================] - 69s 910ms/step - loss: 0.1058 - acc: 0.9596 - val_loss: 0.4069 - val_acc: 0.8691\n",
            "Epoch 29/50\n",
            "76/76 [==============================] - 69s 912ms/step - loss: 0.1008 - acc: 0.9641 - val_loss: 0.3658 - val_acc: 0.8829\n",
            "Epoch 30/50\n",
            "76/76 [==============================] - 69s 913ms/step - loss: 0.1000 - acc: 0.9621 - val_loss: 0.3607 - val_acc: 0.8711\n",
            "Epoch 31/50\n",
            "76/76 [==============================] - 70s 915ms/step - loss: 0.0942 - acc: 0.9635 - val_loss: 0.4117 - val_acc: 0.8573\n",
            "Epoch 32/50\n",
            "76/76 [==============================] - 69s 911ms/step - loss: 0.0858 - acc: 0.9697 - val_loss: 0.2259 - val_acc: 0.9203\n",
            "Epoch 33/50\n",
            "76/76 [==============================] - 69s 906ms/step - loss: 0.0922 - acc: 0.9652 - val_loss: 0.3844 - val_acc: 0.8750\n",
            "Epoch 34/50\n",
            "76/76 [==============================] - 69s 907ms/step - loss: 0.0922 - acc: 0.9662 - val_loss: 0.2941 - val_acc: 0.8898\n",
            "Epoch 35/50\n",
            "76/76 [==============================] - 69s 914ms/step - loss: 0.1008 - acc: 0.9627 - val_loss: 0.2088 - val_acc: 0.9104\n",
            "Epoch 36/50\n",
            "76/76 [==============================] - 69s 912ms/step - loss: 0.1007 - acc: 0.9617 - val_loss: 0.2381 - val_acc: 0.9094\n",
            "Epoch 37/50\n",
            "76/76 [==============================] - 69s 909ms/step - loss: 0.0940 - acc: 0.9621 - val_loss: 0.3389 - val_acc: 0.8848\n",
            "Epoch 38/50\n",
            "76/76 [==============================] - 69s 910ms/step - loss: 0.0852 - acc: 0.9658 - val_loss: 0.2293 - val_acc: 0.9114\n",
            "Epoch 39/50\n",
            "76/76 [==============================] - 69s 913ms/step - loss: 0.0892 - acc: 0.9672 - val_loss: 0.3922 - val_acc: 0.8543\n",
            "Epoch 40/50\n",
            "76/76 [==============================] - 69s 913ms/step - loss: 0.0970 - acc: 0.9631 - val_loss: 0.3625 - val_acc: 0.8691\n",
            "Epoch 41/50\n",
            "76/76 [==============================] - 69s 906ms/step - loss: 0.0961 - acc: 0.9658 - val_loss: 0.3513 - val_acc: 0.8750\n",
            "Epoch 42/50\n",
            "76/76 [==============================] - 69s 909ms/step - loss: 0.0846 - acc: 0.9668 - val_loss: 0.3938 - val_acc: 0.8858\n",
            "Epoch 43/50\n",
            "76/76 [==============================] - 69s 908ms/step - loss: 0.0808 - acc: 0.9708 - val_loss: 0.3801 - val_acc: 0.8730\n",
            "Epoch 44/50\n",
            "76/76 [==============================] - 69s 910ms/step - loss: 0.0796 - acc: 0.9689 - val_loss: 0.5058 - val_acc: 0.8661\n",
            "Epoch 45/50\n",
            "76/76 [==============================] - 69s 906ms/step - loss: 0.0727 - acc: 0.9718 - val_loss: 0.4344 - val_acc: 0.8809\n",
            "Epoch 46/50\n",
            "76/76 [==============================] - 69s 904ms/step - loss: 0.0785 - acc: 0.9720 - val_loss: 0.3724 - val_acc: 0.8809\n",
            "Epoch 47/50\n",
            "76/76 [==============================] - 69s 907ms/step - loss: 0.0769 - acc: 0.9691 - val_loss: 0.4104 - val_acc: 0.8740\n",
            "Epoch 48/50\n",
            "76/76 [==============================] - 69s 903ms/step - loss: 0.0759 - acc: 0.9714 - val_loss: 0.3953 - val_acc: 0.8701\n",
            "Epoch 49/50\n",
            "76/76 [==============================] - 69s 908ms/step - loss: 0.0797 - acc: 0.9718 - val_loss: 0.4009 - val_acc: 0.8799\n",
            "Epoch 50/50\n",
            "76/76 [==============================] - 69s 902ms/step - loss: 0.0787 - acc: 0.9712 - val_loss: 0.3100 - val_acc: 0.9154\n"
          ],
          "name": "stdout"
        }
      ]
    },
    {
      "cell_type": "code",
      "metadata": {
        "id": "57Q5Wjb0acgZ",
        "colab_type": "code",
        "outputId": "7e280a52-cada-4509-ed72-1969c90cb541",
        "colab": {
          "base_uri": "https://localhost:8080/",
          "height": 573
        }
      },
      "source": [
        "import matplotlib.pyplot as plt\n",
        "# Plot training & validation accuracy values\n",
        "plt.plot(history.history['acc'])\n",
        "plt.plot(history.history['val_acc'])\n",
        "plt.title('Model accuracy')\n",
        "plt.ylabel('Accuracy')\n",
        "plt.xlabel('Epoch')\n",
        "plt.legend(['Train', 'Validation'], loc='upper left')\n",
        "plt.show()\n",
        "\n",
        "# Plot training & validation loss values\n",
        "plt.plot(history.history['loss'])\n",
        "plt.plot(history.history['val_loss'])\n",
        "plt.title('Model loss')\n",
        "plt.ylabel('Loss')\n",
        "plt.xlabel('Epoch')\n",
        "plt.legend(['Train', 'Validation'], loc='upper left')\n",
        "plt.show()"
      ],
      "execution_count": 8,
      "outputs": [
        {
          "output_type": "display_data",
          "data": {
            "image/png": "[encoded data removed]",
            "text/plain": [
              "<Figure size 432x288 with 1 Axes>"
            ]
          },
          "metadata": {
            "tags": [],
            "needs_background": "light"
          }
        },
        {
          "output_type": "display_data",
          "data": {
            "image/png": "[encoded data removed]",
            "text/plain": [
              "<Figure size 432x288 with 1 Axes>"
            ]
          },
          "metadata": {
            "tags": [],
            "needs_background": "light"
          }
        }
      ]
    },
    {
      "cell_type": "code",
      "metadata": {
        "id": "UBTV9Gg6acgc",
        "colab_type": "code",
        "colab": {}
      },
      "source": [
        ""
      ],
      "execution_count": 0,
      "outputs": []
    }
  ]
}